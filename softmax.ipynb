{
 "cells": [
  {
   "cell_type": "markdown",
   "metadata": {},
   "source": [
    "# Softmax exercise\n",
    "\n",
    "*Complete and hand in this completed worksheet (including its outputs and any supporting code outside of the worksheet) with your assignment submission. For more details see the [assignments page](http://vision.stanford.edu/teaching/cs231n/assignments.html) on the course website.*\n",
    "\n",
    "This exercise is analogous to the SVM exercise. You will:\n",
    "\n",
    "- implement a fully-vectorized **loss function** for the Softmax classifier\n",
    "- implement the fully-vectorized expression for its **analytic gradient**\n",
    "- **check your implementation** with numerical gradient\n",
    "- use a validation set to **tune the learning rate and regularization** strength\n",
    "- **optimize** the loss function with **SGD**\n",
    "- **visualize** the final learned weights\n"
   ]
  },
  {
   "cell_type": "code",
   "execution_count": 1,
   "metadata": {
    "collapsed": false
   },
   "outputs": [],
   "source": [
    "import random\n",
    "import numpy as np\n",
    "from cs231n.data_utils import load_CIFAR10\n",
    "import matplotlib.pyplot as plt\n",
    "\n",
    "from __future__ import print_function\n",
    "\n",
    "%matplotlib inline\n",
    "plt.rcParams['figure.figsize'] = (10.0, 8.0) # set default size of plots\n",
    "plt.rcParams['image.interpolation'] = 'nearest'\n",
    "plt.rcParams['image.cmap'] = 'gray'\n",
    "\n",
    "# for auto-reloading extenrnal modules\n",
    "# see http://stackoverflow.com/questions/1907993/autoreload-of-modules-in-ipython\n",
    "%load_ext autoreload\n",
    "%autoreload 2"
   ]
  },
  {
   "cell_type": "code",
   "execution_count": 2,
   "metadata": {
    "collapsed": false
   },
   "outputs": [
    {
     "name": "stdout",
     "output_type": "stream",
     "text": [
      "Train data shape:  (49000, 3073)\n",
      "Train labels shape:  (49000,)\n",
      "Validation data shape:  (1000, 3073)\n",
      "Validation labels shape:  (1000,)\n",
      "Test data shape:  (1000, 3073)\n",
      "Test labels shape:  (1000,)\n",
      "dev data shape:  (500, 3073)\n",
      "dev labels shape:  (500,)\n"
     ]
    }
   ],
   "source": [
    "def get_CIFAR10_data(num_training=49000, num_validation=1000, num_test=1000, num_dev=500):\n",
    "    \"\"\"\n",
    "    Load the CIFAR-10 dataset from disk and perform preprocessing to prepare\n",
    "    it for the linear classifier. These are the same steps as we used for the\n",
    "    SVM, but condensed to a single function.  \n",
    "    \"\"\"\n",
    "    # Load the raw CIFAR-10 data\n",
    "    cifar10_dir = 'cs231n/datasets/cifar-10-batches-py'\n",
    "    X_train, y_train, X_test, y_test = load_CIFAR10(cifar10_dir)\n",
    "    \n",
    "    # subsample the data\n",
    "    mask = list(range(num_training, num_training + num_validation))\n",
    "    X_val = X_train[mask]\n",
    "    y_val = y_train[mask]\n",
    "    mask = list(range(num_training))\n",
    "    X_train = X_train[mask]\n",
    "    y_train = y_train[mask]\n",
    "    mask = list(range(num_test))\n",
    "    X_test = X_test[mask]\n",
    "    y_test = y_test[mask]\n",
    "    mask = np.random.choice(num_training, num_dev, replace=False)\n",
    "    X_dev = X_train[mask]\n",
    "    y_dev = y_train[mask]\n",
    "    \n",
    "    # Preprocessing: reshape the image data into rows\n",
    "    X_train = np.reshape(X_train, (X_train.shape[0], -1))\n",
    "    X_val = np.reshape(X_val, (X_val.shape[0], -1))\n",
    "    X_test = np.reshape(X_test, (X_test.shape[0], -1))\n",
    "    X_dev = np.reshape(X_dev, (X_dev.shape[0], -1))\n",
    "    \n",
    "    # Normalize the data: subtract the mean image\n",
    "    mean_image = np.mean(X_train, axis = 0)\n",
    "    X_train -= mean_image\n",
    "    X_val -= mean_image\n",
    "    X_test -= mean_image\n",
    "    X_dev -= mean_image\n",
    "    \n",
    "    # add bias dimension and transform into columns\n",
    "    X_train = np.hstack([X_train, np.ones((X_train.shape[0], 1))])\n",
    "    X_val = np.hstack([X_val, np.ones((X_val.shape[0], 1))])\n",
    "    X_test = np.hstack([X_test, np.ones((X_test.shape[0], 1))])\n",
    "    X_dev = np.hstack([X_dev, np.ones((X_dev.shape[0], 1))])\n",
    "    \n",
    "    return X_train, y_train, X_val, y_val, X_test, y_test, X_dev, y_dev\n",
    "\n",
    "\n",
    "# Invoke the above function to get our data.\n",
    "X_train, y_train, X_val, y_val, X_test, y_test, X_dev, y_dev = get_CIFAR10_data()\n",
    "print('Train data shape: ', X_train.shape)\n",
    "print('Train labels shape: ', y_train.shape)\n",
    "print('Validation data shape: ', X_val.shape)\n",
    "print('Validation labels shape: ', y_val.shape)\n",
    "print('Test data shape: ', X_test.shape)\n",
    "print('Test labels shape: ', y_test.shape)\n",
    "print('dev data shape: ', X_dev.shape)\n",
    "print('dev labels shape: ', y_dev.shape)"
   ]
  },
  {
   "cell_type": "markdown",
   "metadata": {},
   "source": [
    "## Softmax Classifier\n",
    "\n",
    "Your code for this section will all be written inside **cs231n/classifiers/softmax.py**. \n"
   ]
  },
  {
   "cell_type": "code",
   "execution_count": 12,
   "metadata": {
    "collapsed": false
   },
   "outputs": [
    {
     "name": "stdout",
     "output_type": "stream",
     "text": [
      "loss: 2.352903\n",
      "sanity check: 2.302585\n"
     ]
    }
   ],
   "source": [
    "# First implement the naive softmax loss function with nested loops.\n",
    "# Open the file cs231n/classifiers/softmax.py and implement the\n",
    "# softmax_loss_naive function.\n",
    "\n",
    "from cs231n.classifiers.softmax import softmax_loss_naive\n",
    "import time\n",
    "\n",
    "# Generate a random softmax weight matrix and use it to compute the loss.\n",
    "W = np.random.randn(3073, 10) * 0.0001\n",
    "loss, grad = softmax_loss_naive(W, X_dev, y_dev, 0.0)\n",
    "\n",
    "# As a rough sanity check, our loss should be something close to -log(0.1).\n",
    "print('loss: %f' % loss)\n",
    "print('sanity check: %f' % (-np.log(0.1)))"
   ]
  },
  {
   "cell_type": "markdown",
   "metadata": {},
   "source": [
    "## Inline Question 1:\n",
    "Why do we expect our loss to be close to -log(0.1)? Explain briefly.**\n",
    "\n",
    "**Your answer:** When W is very small, the probability of all classes will be very close. so the probability for the correct class is 1/n_classes=0.1, and the loss is -log(prob_correct_class)=-log(0.1)\n"
   ]
  },
  {
   "cell_type": "code",
   "execution_count": 15,
   "metadata": {
    "collapsed": false
   },
   "outputs": [
    {
     "name": "stdout",
     "output_type": "stream",
     "text": [
      "numerical: -3.650433 analytic: -3.650433, relative error: 3.216024e-09\n",
      "numerical: -0.191082 analytic: -0.191082, relative error: 6.383817e-09\n",
      "numerical: 1.301062 analytic: 1.301062, relative error: 2.972297e-09\n",
      "numerical: -0.412384 analytic: -0.412384, relative error: 7.701938e-08\n",
      "numerical: -0.953027 analytic: -0.953027, relative error: 1.211537e-08\n",
      "numerical: -0.438223 analytic: -0.438223, relative error: 5.446453e-08\n",
      "numerical: -0.426400 analytic: -0.426400, relative error: 2.892749e-08\n",
      "numerical: 0.461581 analytic: 0.461581, relative error: 1.449617e-07\n",
      "numerical: 0.785875 analytic: 0.785875, relative error: 2.587357e-08\n",
      "numerical: -0.038578 analytic: -0.038578, relative error: 3.056403e-07\n",
      "numerical: -2.896083 analytic: -2.896084, relative error: 1.720328e-08\n",
      "numerical: -1.435499 analytic: -1.435499, relative error: 5.835311e-09\n",
      "numerical: -3.992327 analytic: -3.992327, relative error: 2.796725e-09\n",
      "numerical: 1.364867 analytic: 1.364867, relative error: 2.483626e-08\n",
      "numerical: 0.711597 analytic: 0.711597, relative error: 2.429060e-08\n",
      "numerical: 2.160898 analytic: 2.160898, relative error: 2.952623e-08\n",
      "numerical: -0.256895 analytic: -0.256895, relative error: 9.893543e-08\n",
      "numerical: 1.881368 analytic: 1.881368, relative error: 1.007509e-08\n",
      "numerical: 0.076600 analytic: 0.076600, relative error: 3.388334e-07\n",
      "numerical: -1.019965 analytic: -1.019965, relative error: 2.694145e-08\n"
     ]
    }
   ],
   "source": [
    "# Complete the implementation of softmax_loss_naive and implement a (naive)\n",
    "# version of the gradient that uses nested loops.\n",
    "loss, grad = softmax_loss_naive(W, X_dev, y_dev, 0.0)\n",
    "\n",
    "# As we did for the SVM, use numeric gradient checking as a debugging tool.\n",
    "# The numeric gradient should be close to the analytic gradient.\n",
    "from cs231n.gradient_check import grad_check_sparse\n",
    "# f seems to be a function which takes w as an input, with fixed X and Y, and output the loss\n",
    "f = lambda w: softmax_loss_naive(w, X_dev, y_dev, 0.0)[0]\n",
    "# The numerical grad dW can be calculated with the calculator f and the current W\n",
    "# the numeircal grad is then compared to the analytic grad.\n",
    "grad_numerical = grad_check_sparse(f, W, grad, 10)\n",
    "\n",
    "# similar to SVM case, do another gradient check with regularization\n",
    "loss, grad = softmax_loss_naive(W, X_dev, y_dev, 5e1)\n",
    "f = lambda w: softmax_loss_naive(w, X_dev, y_dev, 5e1)[0]\n",
    "grad_numerical = grad_check_sparse(f, W, grad, 10)"
   ]
  },
  {
   "cell_type": "code",
   "execution_count": 21,
   "metadata": {
    "collapsed": false
   },
   "outputs": [
    {
     "name": "stdout",
     "output_type": "stream",
     "text": [
      "naive loss: 2.352903e+00 computed in 0.093242s\n",
      "vectorized loss: 2.352903e+00 computed in 0.059988s\n",
      "Loss difference: 0.000000\n",
      "Gradient difference: 0.000000\n"
     ]
    }
   ],
   "source": [
    "# Now that we have a naive implementation of the softmax loss function and its gradient,\n",
    "# implement a vectorized version in softmax_loss_vectorized.\n",
    "# The two versions should compute the same results, but the vectorized version should be\n",
    "# much faster.\n",
    "tic = time.time()\n",
    "loss_naive, grad_naive = softmax_loss_naive(W, X_dev, y_dev, 0.000005)\n",
    "toc = time.time()\n",
    "print('naive loss: %e computed in %fs' % (loss_naive, toc - tic))\n",
    "\n",
    "from cs231n.classifiers.softmax import softmax_loss_vectorized\n",
    "tic = time.time()\n",
    "loss_vectorized, grad_vectorized = softmax_loss_vectorized(W, X_dev, y_dev, 0.000005)\n",
    "toc = time.time()\n",
    "print('vectorized loss: %e computed in %fs' % (loss_vectorized, toc - tic))\n",
    "\n",
    "# As we did for the SVM, we use the Frobenius norm to compare the two versions\n",
    "# of the gradient.\n",
    "grad_difference = np.linalg.norm(grad_naive - grad_vectorized, ord='fro')\n",
    "print('Loss difference: %f' % np.abs(loss_naive - loss_vectorized))\n",
    "print('Gradient difference: %f' % grad_difference)"
   ]
  },
  {
   "cell_type": "code",
   "execution_count": 33,
   "metadata": {
    "collapsed": false
   },
   "outputs": [
    {
     "name": "stdout",
     "output_type": "stream",
     "text": [
      "lr_rate; 1e-07, reg_str: 12500.0\n",
      "accuracy_val; 0.364\n",
      "lr_rate; 1e-07, reg_str: 25000.0\n",
      "accuracy_val; 0.337\n",
      "lr_rate; 1e-07, reg_str: 37500.0\n",
      "accuracy_val; 0.325\n",
      "lr_rate; 1e-07, reg_str: 50000.0\n",
      "accuracy_val; 0.32\n",
      "lr_rate; 3e-07, reg_str: 12500.0\n",
      "accuracy_val; 0.353\n",
      "lr_rate; 3e-07, reg_str: 25000.0\n",
      "accuracy_val; 0.352\n",
      "lr_rate; 3e-07, reg_str: 37500.0\n",
      "accuracy_val; 0.329\n",
      "lr_rate; 3e-07, reg_str: 50000.0\n",
      "accuracy_val; 0.328\n",
      "lr_rate; 5e-07, reg_str: 12500.0\n",
      "accuracy_val; 0.358\n",
      "lr_rate; 5e-07, reg_str: 25000.0\n",
      "accuracy_val; 0.343\n",
      "lr_rate; 5e-07, reg_str: 37500.0\n",
      "accuracy_val; 0.334\n",
      "lr_rate; 5e-07, reg_str: 50000.0\n",
      "accuracy_val; 0.326\n",
      "lr 1.000000e-07 reg 1.250000e+04 train accuracy: 0.349918 val accuracy: 0.364000\n",
      "lr 1.000000e-07 reg 2.500000e+04 train accuracy: 0.329531 val accuracy: 0.337000\n",
      "lr 1.000000e-07 reg 3.750000e+04 train accuracy: 0.314327 val accuracy: 0.325000\n",
      "lr 1.000000e-07 reg 5.000000e+04 train accuracy: 0.307673 val accuracy: 0.320000\n",
      "lr 3.000000e-07 reg 1.250000e+04 train accuracy: 0.348694 val accuracy: 0.353000\n",
      "lr 3.000000e-07 reg 2.500000e+04 train accuracy: 0.326939 val accuracy: 0.352000\n",
      "lr 3.000000e-07 reg 3.750000e+04 train accuracy: 0.312653 val accuracy: 0.329000\n",
      "lr 3.000000e-07 reg 5.000000e+04 train accuracy: 0.304286 val accuracy: 0.328000\n",
      "lr 5.000000e-07 reg 1.250000e+04 train accuracy: 0.340102 val accuracy: 0.358000\n",
      "lr 5.000000e-07 reg 2.500000e+04 train accuracy: 0.333878 val accuracy: 0.343000\n",
      "lr 5.000000e-07 reg 3.750000e+04 train accuracy: 0.318878 val accuracy: 0.334000\n",
      "lr 5.000000e-07 reg 5.000000e+04 train accuracy: 0.314592 val accuracy: 0.326000\n",
      "best validation accuracy achieved during cross-validation: 0.364000\n"
     ]
    }
   ],
   "source": [
    "# Use the validation set to tune hyperparameters (regularization strength and\n",
    "# learning rate). You should experiment with different ranges for the learning\n",
    "# rates and regularization strengths; if you are careful you should be able to\n",
    "# get a classification accuracy of over 0.35 on the validation set.\n",
    "from cs231n.classifiers import Softmax\n",
    "results = {}\n",
    "best_val = -1\n",
    "best_softmax = None\n",
    "#learning_rates = [1e-7, 5e-7]\n",
    "#regularization_strengths = [2.5e4, 5e4]\n",
    "learning_rates = list(np.arange(start=1e-7, stop=6e-7, step=2e-7))\n",
    "regularization_strengths = list(np.arange(start=1.25e4, stop=6e4, step=1.25e4))\n",
    "\n",
    "################################################################################\n",
    "# TODO:                                                                        #\n",
    "# Use the validation set to set the learning rate and regularization strength. #\n",
    "# This should be identical to the validation that you did for the SVM; save    #\n",
    "# the best trained softmax classifer in best_softmax.                          #\n",
    "################################################################################\n",
    "num_iters = 1500\n",
    "# verbose = True\n",
    "verbose = False\n",
    "for lr_rate in learning_rates:\n",
    "    for reg_str in regularization_strengths:\n",
    "        print(\"lr_rate; {}, reg_str: {}\".format(lr_rate, reg_str))\n",
    "        classifier = Softmax()\n",
    "        classifier.train(X_train, y_train, learning_rate=lr_rate, \n",
    "                         num_iters=num_iters, reg=reg_str, batch_size=200, verbose=verbose)\n",
    "        y_train_pred = classifier.predict(X_train)\n",
    "        accuracy_train = np.mean(y_train_pred==y_train)\n",
    "        y_val_pred = classifier.predict(X_val)\n",
    "        accuracy_val = np.mean(y_val_pred==y_val)\n",
    "        results[(lr_rate, reg_str)] = (accuracy_train, accuracy_val)\n",
    "        print(\"accuracy_val; {}\".format(accuracy_val))\n",
    "        if accuracy_val > best_val:\n",
    "            best_val = accuracy_val\n",
    "            best_softmax = classifier\n",
    "        \n",
    "################################################################################\n",
    "#                              END OF YOUR CODE                                #\n",
    "################################################################################\n",
    "    \n",
    "# Print out results.\n",
    "for lr, reg in sorted(results):\n",
    "    train_accuracy, val_accuracy = results[(lr, reg)]\n",
    "    print('lr %e reg %e train accuracy: %f val accuracy: %f' % (\n",
    "                lr, reg, train_accuracy, val_accuracy))\n",
    "    \n",
    "print('best validation accuracy achieved during cross-validation: %f' % best_val)"
   ]
  },
  {
   "cell_type": "code",
   "execution_count": 34,
   "metadata": {
    "collapsed": false
   },
   "outputs": [
    {
     "name": "stdout",
     "output_type": "stream",
     "text": [
      "softmax on raw pixels final test set accuracy: 0.359000\n"
     ]
    }
   ],
   "source": [
    "# evaluate on test set\n",
    "# Evaluate the best softmax on test set\n",
    "y_test_pred = best_softmax.predict(X_test)\n",
    "test_accuracy = np.mean(y_test == y_test_pred)\n",
    "print('softmax on raw pixels final test set accuracy: %f' % (test_accuracy, ))"
   ]
  },
  {
   "cell_type": "code",
   "execution_count": 35,
   "metadata": {
    "collapsed": false
   },
   "outputs": [
    {
     "data": {
      "image/png": "[encoded data removed]",
      "text/plain": [
       "<matplotlib.figure.Figure at 0x7fb1319ce8d0>"
      ]
     },
     "metadata": {},
     "output_type": "display_data"
    }
   ],
   "source": [
    "# Visualize the learned weights for each class\n",
    "w = best_softmax.W[:-1,:] # strip out the bias\n",
    "w = w.reshape(32, 32, 3, 10)\n",
    "\n",
    "w_min, w_max = np.min(w), np.max(w)\n",
    "\n",
    "classes = ['plane', 'car', 'bird', 'cat', 'deer', 'dog', 'frog', 'horse', 'ship', 'truck']\n",
    "for i in range(10):\n",
    "    plt.subplot(2, 5, i + 1)\n",
    "    \n",
    "    # Rescale the weights to be between 0 and 255\n",
    "    wimg = 255.0 * (w[:, :, :, i].squeeze() - w_min) / (w_max - w_min)\n",
    "    plt.imshow(wimg.astype('uint8'))\n",
    "    plt.axis('off')\n",
    "    plt.title(classes[i])"
   ]
  },
  {
   "cell_type": "code",
   "execution_count": null,
   "metadata": {
    "collapsed": true
   },
   "outputs": [],
   "source": []
  }
 ],
 "metadata": {
  "kernelspec": {
   "display_name": "Python 3",
   "language": "python",
   "name": "python3"
  },
  "language_info": {
   "codemirror_mode": {
    "name": "ipython",
    "version": 3
   },
   "file_extension": ".py",
   "mimetype": "text/x-python",
   "name": "python",
   "nbconvert_exporter": "python",
   "pygments_lexer": "ipython3",
   "version": "3.6.6"
  }
 },
 "nbformat": 4,
 "nbformat_minor": 0
}
